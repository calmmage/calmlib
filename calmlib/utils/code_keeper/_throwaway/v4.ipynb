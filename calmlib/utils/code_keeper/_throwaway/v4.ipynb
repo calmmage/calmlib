{
 "cells": [
  {
   "cell_type": "code",
   "execution_count": 13,
   "metadata": {
    "collapsed": true
   },
   "outputs": [
    {
     "ename": "IndentationError",
     "evalue": "expected an indented block after function definition on line 176 (2718887312.py, line 179)",
     "output_type": "error",
     "traceback": [
      "\u001B[0;36m  Cell \u001B[0;32mIn[13], line 179\u001B[0;36m\u001B[0m\n\u001B[0;31m    def plant(self, code, tags, area=GardenArea.inbox):\u001B[0m\n\u001B[0m    ^\u001B[0m\n\u001B[0;31mIndentationError\u001B[0m\u001B[0;31m:\u001B[0m expected an indented block after function definition on line 176\n"
     ]
    }
   ],
   "source": [
    "# from typing import Dict\n",
    "# from code_keeper import cast_enum, parse_tagline\n",
    "# from aenum import MultiValueEnum\n",
    "# import uuid\n",
    "# from dataclasses import dataclass\n",
    "# from typing import List, Tuple, Any, Union\n",
    "# from datetime import datetime\n",
    "#\n",
    "# import os\n",
    "# import glob\n",
    "# import json\n",
    "# from collections import defaultdict\n",
    "# class GardenArea(MultiValueEnum):\n",
    "#     main = 1, 'main'\n",
    "#     secondary = 2, 'secondary'\n",
    "#     inbox = 3, 'inbox'\n",
    "#\n",
    "# @dataclass\n",
    "# class CodeFragment:\n",
    "#     name: str\n",
    "#     code: str\n",
    "#     categories: List[str]\n",
    "#     tags: List[str]\n",
    "#     area: GardenArea\n",
    "#     id: str = None\n",
    "#\n",
    "#     def __post_init__(self):\n",
    "#         if self.id is None:\n",
    "#             self.id = str(uuid.uuid4())\n",
    "#             # todo: _record_event - creation\n",
    "\n",
    "class Singleton:\n",
    "    pass\n",
    "\n",
    "class CodeGarden(Singleton):\n",
    "    def __init__(self, path):\n",
    "        self.path = Path(path).expanduser()\n",
    "\n",
    "    @staticmethod\n",
    "    def _cast_area(area_path):\n",
    "        return cast_enum(area_path, GardenArea)\n",
    "\n",
    "    def _save(self, code, tags: List[str], area: GardenArea):\n",
    "        # save to disk\n",
    "        text = \"\\n\".join(tags) + \"\\n\" + code\n",
    "        name = \"_\".join(tags) + '.py'\n",
    "        area_path = Path(self.root, area.value)\n",
    "        area_path.mkdir(parents=True, exist_ok=True)\n",
    "        file_path = area_path / name\n",
    "        with file_path.open(\"w\") as f:\n",
    "            f.write(text)\n",
    "\n",
    "    def _find(self, keys: List[str]) -> Dict[str, CodeFragment]: # filepath -> code\n",
    "        # option 1: load from disk\n",
    "        # option 2: load on init and use from memory\n",
    "        found_files = defaultdict(list)\n",
    "        for key in keys:\n",
    "            for area in GardenArea:\n",
    "                area_path = Path(self.root, area.value)\n",
    "                search_pattern = f\"{area_path}/*{key}*.py\"\n",
    "                for file_path in glob.glob(search_pattern):\n",
    "                    found_files[area].append(file_path)\n",
    "        return found_files\n",
    "\n",
    "    def _parse_keys(self, keys, sep='.') -> List[str]:\n",
    "        if isinstance(keys, str):\n",
    "            return [key.strip() for key in keys.split(sep)]\n",
    "\n",
    "    def _parse_metadata(self, metadata_str: str) -> Dict[str, List[str]]:\n",
    "        metadata = {}\n",
    "        for part in metadata_str.split(\";\"):\n",
    "            key, value = part.split(\"=\")\n",
    "            values = value.split(\",\")\n",
    "            metadata[key.strip()] = values\n",
    "        return metadata\n",
    "\n",
    "    def _extract_tags_and_categories(self) -> Tuple[List[str], List[str]]:\n",
    "        tags = set()\n",
    "        categories = set()\n",
    "        for area in GardenArea:\n",
    "            area_path = Path(self.root, area.value)\n",
    "            for file_path in area_path.glob(\"*.py\"):\n",
    "                with file_path.open(\"r\") as f:\n",
    "                    metadata_str = f.readline().strip()\n",
    "                    metadata = self._parse_metadata(metadata_str)\n",
    "                    tags.update(metadata[\"tags\"])\n",
    "                    categories.update(metadata[\"categories\"])\n",
    "        return list(tags), list(categories)\n",
    "\n",
    "\n",
    "    def _generate_tags_summary(self) -> Dict[str, Any]:\n",
    "        tags_summary = defaultdict(int)\n",
    "        for area in GardenArea:\n",
    "            area_path = Path(self.root, area.value)\n",
    "            for file_path in area_path.glob(\"*.py\"):\n",
    "                with file_path.open(\"r\") as f:\n",
    "                    metadata_str = f.readline().strip()\n",
    "                    metadata = self._parse_metadata(metadata_str)\n",
    "                    for tag in metadata[\"tags\"]:\n",
    "                        tags_summary[tag] += 1\n",
    "        return tags_summary\n",
    "\n",
    "    def _generate_category_summary(self) -> Dict[str, Any]:\n",
    "        category_summary = defaultdict(int)\n",
    "        for area in GardenArea:\n",
    "            area_path = Path(self.root, area.value)\n",
    "            for file_path in area_path.glob(\"*.py\"):\n",
    "                with file_path.open(\"r\") as f:\n",
    "                    metadata_str = f.readline().strip()\n",
    "                    metadata = self._parse_metadata(metadata_str)\n",
    "                    for category in metadata[\"categories\"]:\n",
    "                        category_summary[category] += 1\n",
    "        return category_summary\n",
    "\n",
    "    def _record_event(self, event_type: str, code_fragment: CodeFragment):\n",
    "        event = {\n",
    "            \"event_type\": event_type,\n",
    "            \"code_fragment_id\": code_fragment.id,\n",
    "            \"timestamp\": datetime.now().isoformat()\n",
    "        }\n",
    "        events_file = Path(self.root, \"events.json\")\n",
    "        if events_file.exists():\n",
    "            with events_file.open(\"r\") as f:\n",
    "                events = json.load(f)\n",
    "        else:\n",
    "            events\n",
    "\n",
    "\n",
    "    # def _suggest_metadata(self, code: str) -> Tuple[List[str], List[str]]:\n",
    "    #     # Suggest metadata for the code fragment using AI\n",
    "\n",
    "\n",
    "class CodeKeeper:\n",
    "    # def __init__(self, code_garden: CodeGarden = None):\n",
    "    #     if code_garden is None:\n",
    "    #         code_garden = self.find_the_garden()\n",
    "    #     elif isinstance(code_garden, str):\n",
    "    #         code_garden = CodeGarden(code_garden)\n",
    "    #     self.garden = code_garden\n",
    "\n",
    "\n",
    "    # @staticmethod\n",
    "    # def find_the_garden():\n",
    "    #     root = os.environ.get(\"CODE_GARDEN_ROOT\", \"~/code_garden\")\n",
    "    #     return CodeGarden(root)\n",
    "\n",
    "    def plant(self, code, tagline, area=GardenArea.inbox):\n",
    "        tags_and_area = self._parse_tagline(tagline)\n",
    "        tags = tags_and_area[\"tags\"]\n",
    "        if \"area\" in tags_and_area:\n",
    "            area = parse_enum(tags_and_area[\"area\"], GardenArea)\n",
    "        self.garden._save(code, tags, area)\n",
    "\n",
    "    def remind(self, keys=None):\n",
    "        if keys is not None:\n",
    "            if isinstance(keys, str):\n",
    "                keys = [keys]\n",
    "\n",
    "            # load all code patterns\n",
    "\n",
    "            # if only one result -\n",
    "\n",
    "    def remind(self, keys=None):\n",
    "        if keys is None:\n",
    "            keys = ['code_garden']\n",
    "        elif isinstance(keys, str):\n",
    "            keys = [keys]\n",
    "            keys = self.garden._parse_keys(keys)\n",
    "        found_files = self.garden._find(keys)\n",
    "        result = []\n",
    "        for area, files in found_files.items():\n",
    "            for file in files:\n",
    "                with open(file, \"r\") as f:\n",
    "                    metadata_str = f.readline().strip()\n",
    "                    code = f.read()\n",
    "                result.append(f\"Area: {area}\\nFile: {file}\\n{code}\\n\")\n",
    "        return \"\\n\".join(result)\n",
    "\n",
    "    find = remind\n",
    "\n",
    "    def generate_summary(self):\n",
    "        tags_summary = self.garden._generate_tags_summary()\n",
    "        category_summary = self.garden._generate_category_summary()\n",
    "        return {\"tags\": tags_summary, \"categories\": category_summary}\n",
    "\n",
    "    def _parse_tagline(self, tagline: str) -> Dict[str, Union[List[str], str]]:\n",
    "        result = {\"tags\": []}\n",
    "        for area in GardenArea:\n",
    "            if tagline.startswith(area.value):\n",
    "                result[\"area\"] = area.value\n",
    "                tagline = tagline[len(area.value) + 1:]\n",
    "                break\n",
    "        if tagline.endswith(\".py\"):\n",
    "            tagline = tagline[:-3]\n",
    "        tags = tagline.split(\"_\")\n",
    "        result[\"tags\"].extend(tags)\n",
    "        return result\n",
    "\n",
    "\n",
    "MemoryKeeper = CodeKeeper\n"
   ]
  },
  {
   "cell_type": "code",
   "execution_count": 1,
   "outputs": [
    {
     "ename": "NameError",
     "evalue": "name 'CodeKeeper' is not defined",
     "output_type": "error",
     "traceback": [
      "\u001B[0;31m---------------------------------------------------------------------------\u001B[0m",
      "\u001B[0;31mNameError\u001B[0m                                 Traceback (most recent call last)",
      "Cell \u001B[0;32mIn[1], line 4\u001B[0m\n\u001B[1;32m      2\u001B[0m p \u001B[38;5;241m=\u001B[39m \u001B[38;5;124m\"\u001B[39m\u001B[38;5;124m~/code_garden\u001B[39m\u001B[38;5;124m\"\u001B[39m\n\u001B[1;32m      3\u001B[0m p \u001B[38;5;241m=\u001B[39m Path(p)\u001B[38;5;241m.\u001B[39mexpanduser()\n\u001B[0;32m----> 4\u001B[0m ck \u001B[38;5;241m=\u001B[39m \u001B[43mCodeKeeper\u001B[49m(p)\n",
      "\u001B[0;31mNameError\u001B[0m: name 'CodeKeeper' is not defined"
     ]
    }
   ],
   "source": [
    "from pathlib import Path\n",
    "p = \"~/code_garden\"\n",
    "p = Path(p).expanduser()\n",
    "ck = CodeKeeper(p)"
   ],
   "metadata": {
    "collapsed": false
   }
  },
  {
   "cell_type": "code",
   "execution_count": 4,
   "outputs": [
    {
     "name": "stdout",
     "output_type": "stream",
     "text": [
      "['sample', 'tag', 'set', 'test', 'garden']\n"
     ]
    }
   ],
   "source": [],
   "metadata": {
    "collapsed": false,
    "ExecuteTime": {
     "start_time": "2023-03-30T20:37:28.737882Z",
     "end_time": "2023-03-30T20:37:28.740501Z"
    }
   }
  },
  {
   "cell_type": "code",
   "execution_count": 18,
   "outputs": [
    {
     "data": {
      "text/plain": "False"
     },
     "execution_count": 18,
     "metadata": {},
     "output_type": "execute_result"
    }
   ],
   "source": [
    "x = \"\"\"/Users/calm/home/projects/venvs/py311/bin/python\n",
    "/Users/calm/home/lib/calmlib/calmlib/utils/code_keeper/code_keeper\n",
    ".py\\n\\n\\t\\b\\h5yh9e8ordbiv `#G$^&%RI^QUEHAFDVBIRYSI%FU^OI&~*\n",
    "Traceback (most recent call last):\n",
    "  File \"/Users/calm/home/lib/calmlib/calmlib/utils/code_keeper/code_keeper.py\", line 12, in <module>\n",
    "    from .utils import cast_enum\n",
    "ImportError: attempted relative import with no known parent package\"\"\"\n",
    "r = Path(x)\n",
    "r.exists()"
   ],
   "metadata": {
    "collapsed": false,
    "ExecuteTime": {
     "start_time": "2023-03-31T01:27:28.027193Z",
     "end_time": "2023-03-31T01:27:28.030669Z"
    }
   }
  },
  {
   "cell_type": "markdown",
   "source": [],
   "metadata": {
    "collapsed": false
   }
  },
  {
   "cell_type": "code",
   "execution_count": 9,
   "outputs": [
    {
     "name": "stdout",
     "output_type": "stream",
     "text": [
      "[<GardenArea.Main: 1>, <GardenArea.Secondary: 2>, <GardenArea.Inbox: 3>]\n"
     ]
    }
   ],
   "source": [
    "print(sorted([GardenArea.Main, GardenArea.Inbox, GardenArea.Secondary, ],key=lambda x: x.value))"
   ],
   "metadata": {
    "collapsed": false,
    "ExecuteTime": {
     "start_time": "2023-03-30T20:45:13.705052Z",
     "end_time": "2023-03-30T20:45:13.709272Z"
    }
   }
  },
  {
   "cell_type": "code",
   "execution_count": 11,
   "outputs": [
    {
     "data": {
      "text/plain": "[<EE.A: 1>, <EE.B: 2>]"
     },
     "execution_count": 11,
     "metadata": {},
     "output_type": "execute_result"
    }
   ],
   "source": [
    "# from enum import Enum\n",
    "# class EE(Enum):\n",
    "#     A = 1\n",
    "#     B = 2\n",
    "#\n",
    "# sorted([EE.A, EE.B], key= lambda x: x.value)"
   ],
   "metadata": {
    "collapsed": false,
    "ExecuteTime": {
     "start_time": "2023-03-30T20:45:22.514221Z",
     "end_time": "2023-03-30T20:45:22.536133Z"
    }
   }
  },
  {
   "cell_type": "code",
   "execution_count": null,
   "outputs": [],
   "source": [
    "# ok, i need to play around with stuff\n"
   ],
   "metadata": {
    "collapsed": false
   }
  },
  {
   "cell_type": "code",
   "execution_count": null,
   "outputs": [],
   "source": [
    "#let's decide on a data model for this thing\n",
    "# version 1:\n",
    "# code, tags, area.\n",
    "\n",
    "# version 2: + name, id, categories"
   ],
   "metadata": {
    "collapsed": false
   }
  },
  {
   "cell_type": "code",
   "execution_count": null,
   "outputs": [],
   "source": [
    "# let's go with version 1 for now.."
   ],
   "metadata": {
    "collapsed": false
   }
  },
  {
   "cell_type": "code",
   "execution_count": null,
   "outputs": [],
   "source": [
    "# option 1: do we load the data in the beginning\n",
    "# option 2: or every time?"
   ],
   "metadata": {
    "collapsed": false
   }
  },
  {
   "cell_type": "code",
   "execution_count": null,
   "outputs": [],
   "source": [
    "# Version 3: Sync data in Notion"
   ],
   "metadata": {
    "collapsed": false
   }
  },
  {
   "cell_type": "code",
   "execution_count": null,
   "outputs": [],
   "source": [],
   "metadata": {
    "collapsed": false
   }
  },
  {
   "cell_type": "code",
   "execution_count": null,
   "outputs": [],
   "source": [
    "# Version 4: track events and stats"
   ],
   "metadata": {
    "collapsed": false
   }
  },
  {
   "cell_type": "code",
   "execution_count": 19,
   "outputs": [
    {
     "ename": "ImportError",
     "evalue": "cannot import name 'CodeKeeper' from 'code_garden' (unknown location)",
     "output_type": "error",
     "traceback": [
      "\u001B[0;31m---------------------------------------------------------------------------\u001B[0m",
      "\u001B[0;31mImportError\u001B[0m                               Traceback (most recent call last)",
      "Cell \u001B[0;32mIn[19], line 3\u001B[0m\n\u001B[1;32m      1\u001B[0m \u001B[38;5;66;03m# so, code_garden example:\u001B[39;00m\n\u001B[0;32m----> 3\u001B[0m \u001B[38;5;28;01mfrom\u001B[39;00m \u001B[38;5;21;01mcode_garden\u001B[39;00m \u001B[38;5;28;01mimport\u001B[39;00m CodeKeeper \n",
      "\u001B[0;31mImportError\u001B[0m: cannot import name 'CodeKeeper' from 'code_garden' (unknown location)"
     ]
    }
   ],
   "source": [
    "# so, code_garden example:\n",
    "\n",
    "from code_garden import CodeKeeper"
   ],
   "metadata": {
    "collapsed": false
   }
  },
  {
   "cell_type": "code",
   "execution_count": 5,
   "outputs": [],
   "source": [
    "import code_garden"
   ],
   "metadata": {
    "collapsed": false,
    "ExecuteTime": {
     "start_time": "2023-03-31T01:34:34.508326Z",
     "end_time": "2023-03-31T01:34:34.516038Z"
    }
   }
  },
  {
   "cell_type": "code",
   "execution_count": 26,
   "outputs": [
    {
     "name": "stdout",
     "output_type": "stream",
     "text": [
      "Requirement already satisfied: pyperclip in /Users/calm/home/projects/venvs/py311/lib/python3.11/site-packages (1.8.2)\r\n",
      "\u001B[33mWARNING: You are using pip version 21.3.1; however, version 23.0.1 is available.\r\n",
      "You should consider upgrading via the '/Users/calm/home/projects/venvs/py311/bin/python -m pip install --upgrade pip' command.\u001B[0m\r\n"
     ]
    }
   ],
   "source": [
    "!pip install pyperclip"
   ],
   "metadata": {
    "collapsed": false,
    "ExecuteTime": {
     "start_time": "2023-03-31T01:32:40.838570Z",
     "end_time": "2023-03-31T01:32:42.315016Z"
    }
   }
  },
  {
   "cell_type": "code",
   "execution_count": 10,
   "outputs": [
    {
     "ename": "AttributeError",
     "evalue": "module 'code_garden' has no attribute 'CodeKeeper'",
     "output_type": "error",
     "traceback": [
      "\u001B[0;31m---------------------------------------------------------------------------\u001B[0m",
      "\u001B[0;31mAttributeError\u001B[0m                            Traceback (most recent call last)",
      "Cell \u001B[0;32mIn[10], line 1\u001B[0m\n\u001B[0;32m----> 1\u001B[0m ck \u001B[38;5;241m=\u001B[39m \u001B[43mcode_garden\u001B[49m\u001B[38;5;241;43m.\u001B[39;49m\u001B[43mCodeKeeper\u001B[49m()\n",
      "\u001B[0;31mAttributeError\u001B[0m: module 'code_garden' has no attribute 'CodeKeeper'"
     ]
    }
   ],
   "source": [
    "ck = code_garden.CodeKeeper()"
   ],
   "metadata": {
    "collapsed": false,
    "ExecuteTime": {
     "start_time": "2023-03-31T01:33:06.448186Z",
     "end_time": "2023-03-31T01:33:06.451717Z"
    }
   }
  },
  {
   "cell_type": "code",
   "execution_count": 1,
   "outputs": [],
   "source": [
    "import pyperclip"
   ],
   "metadata": {
    "collapsed": false,
    "ExecuteTime": {
     "start_time": "2023-03-31T01:33:54.748456Z",
     "end_time": "2023-03-31T01:33:54.756026Z"
    }
   }
  },
  {
   "cell_type": "code",
   "execution_count": 6,
   "outputs": [
    {
     "name": "stderr",
     "output_type": "stream",
     "text": [
      "UsageError: Line magic function `%reload` not found.\n"
     ]
    }
   ],
   "source": [
    "%reload code_garden"
   ],
   "metadata": {
    "collapsed": false
   }
  },
  {
   "cell_type": "code",
   "execution_count": 7,
   "outputs": [],
   "source": [
    "from importlib import reload\n"
   ],
   "metadata": {
    "collapsed": false,
    "ExecuteTime": {
     "start_time": "2023-03-31T01:35:04.696863Z",
     "end_time": "2023-03-31T01:35:04.712372Z"
    }
   }
  },
  {
   "cell_type": "code",
   "execution_count": 15,
   "outputs": [
    {
     "ename": "ModuleNotFoundError",
     "evalue": "No module named 'code_keeper'",
     "output_type": "error",
     "traceback": [
      "\u001B[0;31m---------------------------------------------------------------------------\u001B[0m",
      "\u001B[0;31mModuleNotFoundError\u001B[0m                       Traceback (most recent call last)",
      "Cell \u001B[0;32mIn[15], line 1\u001B[0m\n\u001B[0;32m----> 1\u001B[0m \u001B[38;5;28;01mimport\u001B[39;00m \u001B[38;5;21;01mcode_keeper\u001B[39;00m\n",
      "\u001B[0;31mModuleNotFoundError\u001B[0m: No module named 'code_keeper'"
     ]
    }
   ],
   "source": [
    "import code_keeper"
   ],
   "metadata": {
    "collapsed": false,
    "ExecuteTime": {
     "start_time": "2023-03-31T01:35:12.412008Z",
     "end_time": "2023-03-31T01:35:12.425055Z"
    }
   }
  },
  {
   "cell_type": "code",
   "execution_count": 16,
   "outputs": [],
   "source": [
    "import sys"
   ],
   "metadata": {
    "collapsed": false,
    "ExecuteTime": {
     "start_time": "2023-03-31T01:37:36.160116Z",
     "end_time": "2023-03-31T01:37:36.167897Z"
    }
   }
  },
  {
   "cell_type": "code",
   "execution_count": 17,
   "outputs": [
    {
     "name": "stdout",
     "output_type": "stream",
     "text": [
      "['/Users/calm/Library/Application Support/JetBrains/Toolbox/apps/PyCharm-P/ch-0/231.8109.197/PyCharm.app/Contents/plugins/python/helpers-pro/jupyter_debug', '/Users/calm/Library/Application Support/JetBrains/Toolbox/apps/PyCharm-P/ch-0/231.8109.197/PyCharm.app/Contents/plugins/python/helpers/pydev', '/Users/calm/home/lib/calmlib/calmlib/utils/code_garden', '/Users/calm/home', '/Users/calm/home/lib/defaultenv', '/Users/calm/home/lib/magic_database', '/Users/calm/home/lib/gpt_api', '/Users/calm/home/projects/active/chatgpt_enhancer_bot', '/Users/calm/home/lib/bot_me_maybe', '/Users/calm/home/projects/active/chat_summary_bot', '/Users/calm/home/lib/calmlib', '/Users/calm/home/projects/playground/gpt-bot', '/Users/calm/code/anaconda3/envs/py311/lib/python311.zip', '/Users/calm/code/anaconda3/envs/py311/lib/python3.11', '/Users/calm/code/anaconda3/envs/py311/lib/python3.11/lib-dynload', '', '/Users/calm/home/projects/venvs/py311/lib/python3.11/site-packages', '/Users/calm/.local/lib/python3.11/site-packages', '/Users/calm/code/anaconda3/envs/py311/lib/python3.11/site-packages']\n"
     ]
    }
   ],
   "source": [
    "print(sys.path)"
   ],
   "metadata": {
    "collapsed": false,
    "ExecuteTime": {
     "start_time": "2023-03-31T01:37:40.596074Z",
     "end_time": "2023-03-31T01:37:40.616728Z"
    }
   }
  },
  {
   "cell_type": "code",
   "execution_count": 19,
   "outputs": [],
   "source": [
    "from calmlib.utils.code_keeper import CodeKeeper"
   ],
   "metadata": {
    "collapsed": false,
    "ExecuteTime": {
     "start_time": "2023-03-31T01:39:05.457703Z",
     "end_time": "2023-03-31T01:39:05.461820Z"
    }
   }
  },
  {
   "cell_type": "code",
   "execution_count": null,
   "outputs": [],
   "source": [],
   "metadata": {
    "collapsed": false
   }
  },
  {
   "cell_type": "code",
   "execution_count": 20,
   "outputs": [
    {
     "ename": "TypeError",
     "evalue": "unsupported operand type(s) for /: 'PosixPath' and 'int'",
     "output_type": "error",
     "traceback": [
      "\u001B[0;31m---------------------------------------------------------------------------\u001B[0m",
      "\u001B[0;31mTypeError\u001B[0m                                 Traceback (most recent call last)",
      "Cell \u001B[0;32mIn[20], line 2\u001B[0m\n\u001B[1;32m      1\u001B[0m ck \u001B[38;5;241m=\u001B[39m CodeKeeper()\n\u001B[0;32m----> 2\u001B[0m \u001B[43mck\u001B[49m\u001B[38;5;241;43m.\u001B[39;49m\u001B[43mgenerate_summary\u001B[49m\u001B[43m(\u001B[49m\u001B[43m)\u001B[49m\n",
      "File \u001B[0;32m~/home/lib/calmlib/calmlib/utils/code_keeper/core.py:192\u001B[0m, in \u001B[0;36mCodeKeeper.generate_summary\u001B[0;34m(self)\u001B[0m\n\u001B[1;32m    190\u001B[0m summary \u001B[38;5;241m=\u001B[39m \u001B[38;5;124m\"\u001B[39m\u001B[38;5;124m\"\u001B[39m\n\u001B[1;32m    191\u001B[0m \u001B[38;5;66;03m# genereate summary by tag (most used)\u001B[39;00m\n\u001B[0;32m--> 192\u001B[0m summary \u001B[38;5;241m+\u001B[39m\u001B[38;5;241m=\u001B[39m \u001B[38;5;28;43mself\u001B[39;49m\u001B[38;5;241;43m.\u001B[39;49m\u001B[43mcode_garden\u001B[49m\u001B[38;5;241;43m.\u001B[39;49m\u001B[43m_generate_summary_by_tag\u001B[49m\u001B[43m(\u001B[49m\u001B[43m)\u001B[49m\n\u001B[1;32m    194\u001B[0m \u001B[38;5;66;03m# todo: generate summary by usage (most visited / least visited)\u001B[39;00m\n\u001B[1;32m    195\u001B[0m \u001B[38;5;66;03m# todo: generate summary by creaetion date (most recent few)\u001B[39;00m\n\u001B[1;32m    196\u001B[0m \u001B[38;5;66;03m# todo: something else? How do I highlight the most important code?\u001B[39;00m\n\u001B[1;32m    197\u001B[0m \u001B[38;5;66;03m# random items just in case? :)\u001B[39;00m\n\u001B[1;32m    198\u001B[0m \u001B[38;5;28;01mreturn\u001B[39;00m summary\n",
      "File \u001B[0;32m~/home/lib/calmlib/calmlib/utils/code_keeper/core.py:117\u001B[0m, in \u001B[0;36mCodeGarden._generate_summary_by_tag\u001B[0;34m(self)\u001B[0m\n\u001B[1;32m    115\u001B[0m \u001B[38;5;28;01mdef\u001B[39;00m \u001B[38;5;21m_generate_summary_by_tag\u001B[39m(\u001B[38;5;28mself\u001B[39m):\n\u001B[1;32m    116\u001B[0m     \u001B[38;5;66;03m# count the number of code fragments per tag\u001B[39;00m\n\u001B[0;32m--> 117\u001B[0m     all_patterns \u001B[38;5;241m=\u001B[39m \u001B[38;5;28;43mself\u001B[39;49m\u001B[38;5;241;43m.\u001B[39;49m\u001B[43mfind\u001B[49m\u001B[43m(\u001B[49m\u001B[38;5;124;43m\"\u001B[39;49m\u001B[38;5;124;43m\"\u001B[39;49m\u001B[43m)\u001B[49m\n\u001B[1;32m    118\u001B[0m     counter \u001B[38;5;241m=\u001B[39m Counter()\n\u001B[1;32m    119\u001B[0m     \u001B[38;5;28;01mfor\u001B[39;00m pattern \u001B[38;5;129;01min\u001B[39;00m all_patterns\u001B[38;5;241m.\u001B[39mvalues():\n",
      "File \u001B[0;32m~/home/lib/calmlib/calmlib/utils/code_keeper/core.py:72\u001B[0m, in \u001B[0;36mCodeGarden.find\u001B[0;34m(self, keys, area, keys_and)\u001B[0m\n\u001B[1;32m     70\u001B[0m result \u001B[38;5;241m=\u001B[39m {}\n\u001B[1;32m     71\u001B[0m \u001B[38;5;28;01mfor\u001B[39;00m area \u001B[38;5;129;01min\u001B[39;00m areas:\n\u001B[0;32m---> 72\u001B[0m     \u001B[38;5;28;01mfor\u001B[39;00m path \u001B[38;5;129;01min\u001B[39;00m \u001B[38;5;28mself\u001B[39m\u001B[38;5;241m.\u001B[39m_find_paths(keys, area, keys_and):\n\u001B[1;32m     73\u001B[0m         code \u001B[38;5;241m=\u001B[39m path\u001B[38;5;241m.\u001B[39mread_text()\n\u001B[1;32m     74\u001B[0m         tags \u001B[38;5;241m=\u001B[39m path\u001B[38;5;241m.\u001B[39mstem\u001B[38;5;241m.\u001B[39msplit(\u001B[38;5;124m'\u001B[39m\u001B[38;5;124m.\u001B[39m\u001B[38;5;124m'\u001B[39m)\n",
      "File \u001B[0;32m~/home/lib/calmlib/calmlib/utils/code_keeper/core.py:80\u001B[0m, in \u001B[0;36mCodeGarden._find_paths\u001B[0;34m(self, keys, area, keys_and)\u001B[0m\n\u001B[1;32m     79\u001B[0m \u001B[38;5;28;01mdef\u001B[39;00m \u001B[38;5;21m_find_paths\u001B[39m(\u001B[38;5;28mself\u001B[39m, keys, area: GardenArea, keys_and: \u001B[38;5;28mbool\u001B[39m \u001B[38;5;241m=\u001B[39m \u001B[38;5;28;01mTrue\u001B[39;00m):\n\u001B[0;32m---> 80\u001B[0m     area_path \u001B[38;5;241m=\u001B[39m \u001B[38;5;28;43mself\u001B[39;49m\u001B[38;5;241;43m.\u001B[39;49m\u001B[43mpath\u001B[49m\u001B[43m \u001B[49m\u001B[38;5;241;43m/\u001B[39;49m\u001B[43m \u001B[49m\u001B[43marea\u001B[49m\u001B[38;5;241;43m.\u001B[39;49m\u001B[43mvalue\u001B[49m\n\u001B[1;32m     82\u001B[0m     \u001B[38;5;28;01mfor\u001B[39;00m path \u001B[38;5;129;01min\u001B[39;00m area_path\u001B[38;5;241m.\u001B[39miterdir():\n\u001B[1;32m     83\u001B[0m         \u001B[38;5;66;03m# just take .py files\u001B[39;00m\n\u001B[1;32m     84\u001B[0m         \u001B[38;5;28;01mif\u001B[39;00m path\u001B[38;5;241m.\u001B[39msuffix \u001B[38;5;241m==\u001B[39m \u001B[38;5;124m'\u001B[39m\u001B[38;5;124m.py\u001B[39m\u001B[38;5;124m'\u001B[39m \u001B[38;5;129;01mand\u001B[39;00m path\u001B[38;5;241m.\u001B[39mis_file():\n",
      "\u001B[0;31mTypeError\u001B[0m: unsupported operand type(s) for /: 'PosixPath' and 'int'"
     ]
    }
   ],
   "source": [
    "ck = CodeKeeper()\n",
    "ck.generate_summary()"
   ],
   "metadata": {
    "collapsed": false
   }
  },
  {
   "cell_type": "code",
   "execution_count": null,
   "outputs": [],
   "source": [],
   "metadata": {
    "collapsed": false
   }
  }
 ],
 "metadata": {
  "kernelspec": {
   "name": "pycharm-e9dcb299",
   "language": "python",
   "display_name": "PyCharm (home)"
  },
  "language_info": {
   "codemirror_mode": {
    "name": "ipython",
    "version": 2
   },
   "file_extension": ".py",
   "mimetype": "text/x-python",
   "name": "python",
   "nbconvert_exporter": "python",
   "pygments_lexer": "ipython2",
   "version": "2.7.6"
  }
 },
 "nbformat": 4,
 "nbformat_minor": 0
}
